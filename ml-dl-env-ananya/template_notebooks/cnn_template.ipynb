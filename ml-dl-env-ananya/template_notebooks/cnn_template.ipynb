{
 "cells": [
  {
   "cell_type": "code",
   "execution_count": 1,
   "id": "1563aa3f-43cd-4209-87d8-b677ccda2616",
   "metadata": {},
   "outputs": [],
   "source": [
    "import numpy as np\n",
    "import cv2\n",
    "from modules.data_loader import load_image_dataset_npz , load_image_dataset_from_folders\n",
    "from modules.preprocessor import preprocess_images\n",
    "from modules.utils import plot_training_history,save_model,save_metrics,plot_confusion_matrix\n",
    "from tensorflow.keras.models import Sequential\n",
    "from tensorflow.keras.layers import Conv2D, MaxPooling2D, Flatten, Dense, Dropout\n",
    "from sklearn.metrics import classification_report, confusion_matrix\n",
    "import matplotlib.pyplot as plt"
   ]
  },
  {
   "cell_type": "code",
   "execution_count": null,
   "id": "a1713e8e-9b7f-46e8-835a-b1ba9610a0f1",
   "metadata": {},
   "outputs": [],
   "source": [
    "# Step 2: Load Dataset\n",
    "# Option 1: From .npz\n",
    "# X, y = load_image_dataset_npz(\"data/dataset.npz\")\n",
    "\n",
    "# Option 2: From folders\n",
    "X, y = load_image_dataset_from_folders(\"\")  # Replace with your path\n",
    "\n",
    "# Step 3: Preprocess Images\n",
    "X_train, X_test, y_train, y_test = preprocess_images(X, y, img_size=(28, 28), grayscale=True)"
   ]
  },
  {
   "cell_type": "code",
   "execution_count": 3,
   "id": "b85d53d0-2a6d-465c-86d9-2f3d2a8dc938",
   "metadata": {},
   "outputs": [
    {
     "ename": "NameError",
     "evalue": "name 'X' is not defined",
     "output_type": "error",
     "traceback": [
      "\u001b[1;31m---------------------------------------------------------------------------\u001b[0m",
      "\u001b[1;31mNameError\u001b[0m                                 Traceback (most recent call last)",
      "Cell \u001b[1;32mIn[3], line 2\u001b[0m\n\u001b[0;32m      1\u001b[0m \u001b[38;5;66;03m# 🧼 Step 3: Preprocess Images\u001b[39;00m\n\u001b[1;32m----> 2\u001b[0m X_train, X_test, y_train, y_test \u001b[38;5;241m=\u001b[39m preprocess_images(X, y, img_size\u001b[38;5;241m=\u001b[39m(\u001b[38;5;241m28\u001b[39m, \u001b[38;5;241m28\u001b[39m), grayscale\u001b[38;5;241m=\u001b[39m\u001b[38;5;28;01mTrue\u001b[39;00m)\n",
      "\u001b[1;31mNameError\u001b[0m: name 'X' is not defined"
     ]
    }
   ],
   "source": [
    "# Step 4: Build CNN Model\n",
    "model = Sequential([\n",
    "    Conv2D(32, (3,3), activation='relu', input_shape=(28, 28, 1)),\n",
    "    MaxPooling2D((2,2)),\n",
    "    Conv2D(64, (3,3), activation='relu'),\n",
    "    MaxPooling2D((2,2)),\n",
    "    Flatten(),\n",
    "    Dense(64, activation='relu'),\n",
    "    Dropout(0.5),\n",
    "    Dense(len(np.unique(y)), activation='softmax')  # For multi-class classification\n",
    "])\n",
    "\n",
    "model.compile(optimizer='adam', loss='sparse_categorical_crossentropy', metrics=['accuracy'])\n",
    "model.summary()\n",
    "\n"
   ]
  },
  {
   "cell_type": "code",
   "execution_count": null,
   "id": "8e4325b6-5995-454c-80f4-56512dac2d5f",
   "metadata": {},
   "outputs": [],
   "source": [
    "# 🏋️ Step 5: Train the Model\n",
    "history = model.fit(X_train, y_train, validation_data=(X_test, y_test), epochs=10, batch_size=32)\n",
    "\n",
    "# 📈 Step 6: Evaluate Model\n",
    "loss, acc = model.evaluate(X_test, y_test)\n",
    "print(f\"Test Accuracy: {acc:.4f}\")\n",
    "\n",
    "y_pred = np.argmax(model.predict(X_test), axis=1)\n",
    "print(classification_report(y_test, y_pred))\n",
    "cm = confusion_matrix(y_test, y_pred)\n",
    "\n",
    "plot_confusion_matrix(cm, class_names=[str(i) for i in np.unique(y_test)])\n",
    "\n",
    "# 📊 Step 7: Plot Training History\n",
    "plot_training_history(history)\n",
    "\n",
    "# 💾 Step 8: Save Model & Metrics\n",
    "save_model(model, filename=\"output/cnn_model.h5\")\n",
    "save_metrics({\n",
    "    \"test_accuracy\": float(acc),\n",
    "    \"test_loss\": float(loss)\n",
    "})\n"
   ]
  }
 ],
 "metadata": {
  "kernelspec": {
   "display_name": "Python 3 (ipykernel)",
   "language": "python",
   "name": "python3"
  },
  "language_info": {
   "codemirror_mode": {
    "name": "ipython",
    "version": 3
   },
   "file_extension": ".py",
   "mimetype": "text/x-python",
   "name": "python",
   "nbconvert_exporter": "python",
   "pygments_lexer": "ipython3",
   "version": "3.11.7"
  }
 },
 "nbformat": 4,
 "nbformat_minor": 5
}
